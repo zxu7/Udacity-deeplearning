{
 "cells": [
  {
   "cell_type": "code",
   "execution_count": 1,
   "metadata": {
    "collapsed": true
   },
   "outputs": [],
   "source": [
    "# These are all the modules we'll be using later. Make sure you can import them\n",
    "# before proceeding further.\n",
    "from __future__ import print_function\n",
    "import numpy as np\n",
    "import tensorflow as tf\n",
    "from six.moves import cPickle as pickle\n",
    "from six.moves import range"
   ]
  },
  {
   "cell_type": "code",
   "execution_count": 4,
   "metadata": {
    "collapsed": false
   },
   "outputs": [
    {
     "name": "stdout",
     "output_type": "stream",
     "text": [
      "Training set (200000, 28, 28) (200000,)\n",
      "Validation set (10000, 28, 28) (10000,)\n",
      "Test set (10000, 28, 28) (10000,)\n"
     ]
    }
   ],
   "source": [
    "pickle_file = 'notMNIST.pickle'\n",
    "\n",
    "with open(pickle_file, 'rb') as f:\n",
    "  save = pickle.load(f)\n",
    "  train_dataset = save['train_dataset']\n",
    "  train_labels = save['train_labels']\n",
    "  valid_dataset = save['valid_dataset']\n",
    "  valid_labels = save['valid_labels']\n",
    "  test_dataset = save['test_dataset']\n",
    "  test_labels = save['test_labels']\n",
    "  del save  # hint to help gc free up memory\n",
    "  print('Training set', train_dataset.shape, train_labels.shape)\n",
    "  print('Validation set', valid_dataset.shape, valid_labels.shape)\n",
    "  print('Test set', test_dataset.shape, test_labels.shape)"
   ]
  },
  {
   "cell_type": "code",
   "execution_count": 12,
   "metadata": {
    "collapsed": false
   },
   "outputs": [
    {
     "name": "stdout",
     "output_type": "stream",
     "text": [
      "Training set (200000, 784) (200000, 10)\n",
      "Validation set (10000, 784) (10000, 10)\n",
      "Test set (10000, 784) (10000, 10)\n"
     ]
    }
   ],
   "source": [
    "image_size = 28\n",
    "num_labels = 10\n",
    "\n",
    "def reformat(dataset, labels):\n",
    "  dataset = dataset.reshape((-1, image_size * image_size)).astype(np.float32)\n",
    "  # Map 0 to [1.0, 0.0, 0.0 ...], 1 to [0.0, 1.0, 0.0 ...]\n",
    "  labels = (np.arange(num_labels) == labels[:,None]).astype(np.float32)\n",
    "  return dataset, labels\n",
    "train_dataset, train_labels = reformat(train_dataset, train_labels)\n",
    "valid_dataset, valid_labels = reformat(valid_dataset, valid_labels)\n",
    "test_dataset, test_labels = reformat(test_dataset, test_labels)\n",
    "print('Training set', train_dataset.shape, train_labels.shape)\n",
    "print('Validation set', valid_dataset.shape, valid_labels.shape)\n",
    "print('Test set', test_dataset.shape, test_labels.shape)"
   ]
  },
  {
   "cell_type": "code",
   "execution_count": 13,
   "metadata": {
    "collapsed": true
   },
   "outputs": [],
   "source": [
    "# With gradient descent training, even this much data is prohibitive.\n",
    "# Subset the training data for faster turnaround.\n",
    "train_subset = 10000\n",
    "\n",
    "graph = tf.Graph()\n",
    "with graph.as_default():\n",
    "\n",
    "  # Input data.\n",
    "  # Load the training, validation and test data into constants that are\n",
    "  # attached to the graph.\n",
    "  tf_train_dataset = tf.constant(train_dataset[:train_subset, :])\n",
    "  tf_train_labels = tf.constant(train_labels[:train_subset])\n",
    "  tf_valid_dataset = tf.constant(valid_dataset)\n",
    "  tf_test_dataset = tf.constant(test_dataset)\n",
    "  \n",
    "  # Variables.\n",
    "  # These are the parameters that we are going to be training. The weight\n",
    "  # matrix will be initialized using random values following a (truncated)\n",
    "  # normal distribution. The biases get initialized to zero.\n",
    "  weights = tf.Variable(\n",
    "    tf.truncated_normal([image_size * image_size, num_labels]))\n",
    "  biases = tf.Variable(tf.zeros([num_labels]))\n",
    "  \n",
    "  # Training computation.\n",
    "  # We multiply the inputs with the weight matrix, and add biases. We compute\n",
    "  # the softmax and cross-entropy (it's one operation in TensorFlow, because\n",
    "  # it's very common, and it can be optimized). We take the average of this\n",
    "  # cross-entropy across all training examples: that's our loss.\n",
    "  logits = tf.matmul(tf_train_dataset, weights) + biases\n",
    "  loss = tf.reduce_mean(\n",
    "    tf.nn.softmax_cross_entropy_with_logits(logits, tf_train_labels))\n",
    "  \n",
    "  # Optimizer.\n",
    "  # We are going to find the minimum of this loss using gradient descent.\n",
    "  optimizer = tf.train.GradientDescentOptimizer(0.5).minimize(loss)\n",
    "  \n",
    "  # Predictions for the training, validation, and test data.\n",
    "  # These are not part of training, but merely here so that we can report\n",
    "  # accuracy figures as we train.\n",
    "  train_prediction = tf.nn.softmax(logits)\n",
    "  valid_prediction = tf.nn.softmax(\n",
    "    tf.matmul(tf_valid_dataset, weights) + biases)\n",
    "  test_prediction = tf.nn.softmax(tf.matmul(tf_test_dataset, weights) + biases)"
   ]
  },
  {
   "cell_type": "markdown",
   "metadata": {},
   "source": [
    "\n",
    "Let's run this computation and iterate:"
   ]
  },
  {
   "cell_type": "code",
   "execution_count": 7,
   "metadata": {
    "collapsed": false
   },
   "outputs": [
    {
     "name": "stdout",
     "output_type": "stream",
     "text": [
      "Initialized\n",
      "Loss at step 0: 19.801123\n",
      "Training accuracy: 9.7%\n",
      "Validation accuracy: 11.5%\n",
      "Loss at step 100: 2.237672\n",
      "Training accuracy: 71.4%\n",
      "Validation accuracy: 70.8%\n",
      "Loss at step 200: 1.809805\n",
      "Training accuracy: 75.0%\n",
      "Validation accuracy: 73.1%\n",
      "Loss at step 300: 1.579807\n",
      "Training accuracy: 76.2%\n",
      "Validation accuracy: 73.9%\n",
      "Loss at step 400: 1.423616\n",
      "Training accuracy: 77.1%\n",
      "Validation accuracy: 74.2%\n",
      "Loss at step 500: 1.307445\n",
      "Training accuracy: 77.7%\n",
      "Validation accuracy: 74.7%\n",
      "Loss at step 600: 1.216172\n",
      "Training accuracy: 78.4%\n",
      "Validation accuracy: 74.7%\n",
      "Loss at step 700: 1.141620\n",
      "Training accuracy: 78.9%\n",
      "Validation accuracy: 74.9%\n",
      "Loss at step 800: 1.078963\n",
      "Training accuracy: 79.3%\n",
      "Validation accuracy: 75.0%\n",
      "Test accuracy: 82.4%\n"
     ]
    }
   ],
   "source": [
    "num_steps = 801\n",
    "\n",
    "def accuracy(predictions, labels):\n",
    "  return (100.0 * np.sum(np.argmax(predictions, 1) == np.argmax(labels, 1))\n",
    "          / predictions.shape[0])\n",
    "\n",
    "with tf.Session(graph=graph) as session:\n",
    "  # This is a one-time operation which ensures the parameters get initialized as\n",
    "  # we described in the graph: random weights for the matrix, zeros for the\n",
    "  # biases. \n",
    "  tf.initialize_all_variables().run()\n",
    "  print('Initialized')\n",
    "  for step in range(num_steps):\n",
    "    # Run the computations. We tell .run() that we want to run the optimizer,\n",
    "    # and get the loss value and the training predictions returned as numpy\n",
    "    # arrays.\n",
    "    _, l, predictions = session.run([optimizer, loss, train_prediction])\n",
    "    if (step % 100 == 0):\n",
    "      print('Loss at step %d: %f' % (step, l))\n",
    "      print('Training accuracy: %.1f%%' % accuracy(\n",
    "        predictions, train_labels[:train_subset, :]))\n",
    "      # Calling .eval() on valid_prediction is basically like calling run(), but\n",
    "      # just to get that one numpy array. Note that it recomputes all its graph\n",
    "      # dependencies.\n",
    "      print('Validation accuracy: %.1f%%' % accuracy(\n",
    "        valid_prediction.eval(), valid_labels))\n",
    "  print('Test accuracy: %.1f%%' % accuracy(test_prediction.eval(), test_labels))"
   ]
  },
  {
   "cell_type": "markdown",
   "metadata": {},
   "source": [
    "# practise!"
   ]
  },
  {
   "cell_type": "code",
   "execution_count": 18,
   "metadata": {
    "collapsed": false
   },
   "outputs": [
    {
     "name": "stdout",
     "output_type": "stream",
     "text": [
      "step: 0, loss: 18.48882293701172, accuracy:0.0921, valid accuracy:0.1185\n",
      "step: 100, loss: 2.2325899600982666, accuracy:0.7147, valid accuracy:0.6979\n",
      "step: 200, loss: 1.782598614692688, accuracy:0.7483, valid accuracy:0.7259\n",
      "step: 300, loss: 1.549940586090088, accuracy:0.7625, valid accuracy:0.7358\n",
      "step: 400, loss: 1.3974037170410156, accuracy:0.7725, valid accuracy:0.7397\n",
      "step: 500, loss: 1.2853747606277466, accuracy:0.779, valid accuracy:0.742\n",
      "step: 600, loss: 1.1978954076766968, accuracy:0.7852, valid accuracy:0.7454\n",
      "step: 700, loss: 1.126826524734497, accuracy:0.7896, valid accuracy:0.7465\n",
      "step: 800, loss: 1.0674121379852295, accuracy:0.7936, valid accuracy:0.7471\n",
      "Training done!\n",
      "test accuracy:  0.8241\n"
     ]
    }
   ],
   "source": [
    "# train a logistic classifier for train_dataset and train_labels\n",
    "# define graph\n",
    "graph = tf.Graph()\n",
    "with graph.as_default():\n",
    "    # define dataset\n",
    "    tf_train_dataset = tf.constant(train_dataset[:10000,:])\n",
    "    tf_train_labels = tf.constant(train_labels[:10000])\n",
    "    tf_valid_dataset = tf.constant(valid_dataset)\n",
    "    tf_valid_labels = tf.constant(valid_labels)\n",
    "    tf_test_dataset = tf.constant(test_dataset)\n",
    "    tf_test_labels = tf.constant(test_labels)\n",
    "    \n",
    "    # define variables (weights, biases) with initial values\n",
    "    weights = tf.Variable(tf.truncated_normal([image_size*image_size,num_labels]))\n",
    "    biases = tf.Variable(tf.zeros([num_labels]))\n",
    "    \n",
    "    # define loss\n",
    "    logits = tf.matmul(tf_train_dataset,weights) + biases\n",
    "    loss = tf.reduce_mean(tf.nn.softmax_cross_entropy_with_logits(logits,tf_train_labels))\n",
    "    \n",
    "    # define optimizer\n",
    "    optimizer = tf.train.GradientDescentOptimizer(0.5).minimize(loss)\n",
    "    \n",
    "    # define predictions\n",
    "    train_prediction = tf.nn.softmax(logits)\n",
    "    valid_prediction = tf.nn.softmax(tf.matmul(tf_valid_dataset,weights)+biases)\n",
    "    test_prediction = tf.nn.softmax(tf.matmul(tf_test_dataset,weights)+biases)\n",
    "    \n",
    "    \n",
    "def accuracy(prediction,truth):\n",
    "    return np.sum(np.argmax(prediction,axis=1)==np.argmax(truth,axis=1))/prediction.shape[0]\n",
    "\n",
    "with tf.Session(graph=graph) as session:\n",
    "    # initialize\n",
    "    tf.initialize_all_variables().run()\n",
    "    # train\n",
    "    for step in range(801):\n",
    "        _,l,pred = session.run([optimizer,loss,train_prediction])\n",
    "        if step % 100 ==0:\n",
    "            print('step: {}, loss: {}, accuracy:{}, valid accuracy:{}'.format(step,l,accuracy(pred,train_labels[:10000]),accuracy(valid_prediction.eval(),valid_labels)))\n",
    "    print('Training done!')\n",
    "    print('test accuracy: ', accuracy(test_prediction.eval(), test_labels))"
   ]
  },
  {
   "cell_type": "markdown",
   "metadata": {},
   "source": [
    "Let's now switch to stochastic gradient descent training instead, which is much faster.\n",
    "The graph will be similar, except that instead of holding all the training data into a constant node, we create a Placeholder node which will be fed actual data at every call of session.run()."
   ]
  },
  {
   "cell_type": "code",
   "execution_count": 20,
   "metadata": {
    "collapsed": true
   },
   "outputs": [],
   "source": [
    "batch_size = 128\n",
    "\n",
    "graph = tf.Graph()\n",
    "with graph.as_default():\n",
    "\n",
    "  # Input data. For the training data, we use a placeholder that will be fed\n",
    "  # at run time with a training minibatch.\n",
    "  tf_train_dataset = tf.placeholder(tf.float32,\n",
    "                                    shape=(batch_size, image_size * image_size))\n",
    "  tf_train_labels = tf.placeholder(tf.float32, shape=(batch_size, num_labels))\n",
    "  tf_valid_dataset = tf.constant(valid_dataset)\n",
    "  tf_test_dataset = tf.constant(test_dataset)\n",
    "  \n",
    "  # Variables.\n",
    "  weights = tf.Variable(\n",
    "    tf.truncated_normal([image_size * image_size, num_labels]))\n",
    "  biases = tf.Variable(tf.zeros([num_labels]))\n",
    "  \n",
    "  # Training computation.\n",
    "  logits = tf.matmul(tf_train_dataset, weights) + biases\n",
    "  loss = tf.reduce_mean(\n",
    "    tf.nn.softmax_cross_entropy_with_logits(logits, tf_train_labels))\n",
    "  \n",
    "  # Optimizer.\n",
    "  optimizer = tf.train.GradientDescentOptimizer(0.5).minimize(loss)\n",
    "  \n",
    "  # Predictions for the training, validation, and test data.\n",
    "  train_prediction = tf.nn.softmax(logits)\n",
    "  valid_prediction = tf.nn.softmax(\n",
    "    tf.matmul(tf_valid_dataset, weights) + biases)\n",
    "  test_prediction = tf.nn.softmax(tf.matmul(tf_test_dataset, weights) + biases)"
   ]
  },
  {
   "cell_type": "markdown",
   "metadata": {},
   "source": [
    "let's run it"
   ]
  },
  {
   "cell_type": "code",
   "execution_count": 21,
   "metadata": {
    "collapsed": false
   },
   "outputs": [
    {
     "name": "stdout",
     "output_type": "stream",
     "text": [
      "Initialized\n",
      "Minibatch loss at step 0: 16.391232\n",
      "Minibatch accuracy: 10.9%\n",
      "Validation accuracy: 10.7%\n",
      "Minibatch loss at step 500: 1.293702\n",
      "Minibatch accuracy: 75.8%\n",
      "Validation accuracy: 75.5%\n",
      "Minibatch loss at step 1000: 1.453120\n",
      "Minibatch accuracy: 74.2%\n",
      "Validation accuracy: 76.6%\n",
      "Minibatch loss at step 1500: 0.900042\n",
      "Minibatch accuracy: 83.6%\n",
      "Validation accuracy: 77.2%\n",
      "Minibatch loss at step 2000: 0.813327\n",
      "Minibatch accuracy: 86.7%\n",
      "Validation accuracy: 77.3%\n",
      "Minibatch loss at step 2500: 0.998739\n",
      "Minibatch accuracy: 77.3%\n",
      "Validation accuracy: 78.3%\n",
      "Minibatch loss at step 3000: 1.012559\n",
      "Minibatch accuracy: 77.3%\n",
      "Validation accuracy: 78.9%\n",
      "Test accuracy: 86.1%\n"
     ]
    }
   ],
   "source": [
    "num_steps = 3001\n",
    "\n",
    "with tf.Session(graph=graph) as session:\n",
    "  tf.initialize_all_variables().run()\n",
    "  print(\"Initialized\")\n",
    "  for step in range(num_steps):\n",
    "    # Pick an offset within the training data, which has been randomized.\n",
    "    # Note: we could use better randomization across epochs.\n",
    "    offset = (step * batch_size) % (train_labels.shape[0] - batch_size)\n",
    "    # Generate a minibatch.\n",
    "    batch_data = train_dataset[offset:(offset + batch_size), :]\n",
    "    batch_labels = train_labels[offset:(offset + batch_size), :]\n",
    "    # Prepare a dictionary telling the session where to feed the minibatch.\n",
    "    # The key of the dictionary is the placeholder node of the graph to be fed,\n",
    "    # and the value is the numpy array to feed to it.\n",
    "    feed_dict = {tf_train_dataset : batch_data, tf_train_labels : batch_labels}\n",
    "    _, l, predictions = session.run(\n",
    "      [optimizer, loss, train_prediction], feed_dict=feed_dict)\n",
    "    if (step % 500 == 0):\n",
    "      print(\"Minibatch loss at step %d: %f\" % (step, l))\n",
    "      print(\"Minibatch accuracy: %.1f%%\" % accuracy(predictions, batch_labels))\n",
    "      print(\"Validation accuracy: %.1f%%\" % accuracy(\n",
    "        valid_prediction.eval(), valid_labels))\n",
    "  print(\"Test accuracy: %.1f%%\" % accuracy(test_prediction.eval(), test_labels))"
   ]
  },
  {
   "cell_type": "markdown",
   "metadata": {},
   "source": [
    "# practise! "
   ]
  },
  {
   "cell_type": "code",
   "execution_count": 31,
   "metadata": {
    "collapsed": false
   },
   "outputs": [
    {
     "name": "stderr",
     "output_type": "stream",
     "text": [
      "/Users/harryxu/anaconda/envs/python3/lib/python3.5/site-packages/ipykernel/__main__.py:32: DeprecationWarning: elementwise == comparison failed; this will raise an error in the future.\n"
     ]
    },
    {
     "name": "stdout",
     "output_type": "stream",
     "text": [
      "step: 0, loss: 17.25391960144043, accuracy:0.0, valid accuracy:0.0972\n",
      "step: 100, loss: 1.958814263343811, accuracy:0.0, valid accuracy:0.7159\n",
      "step: 200, loss: 2.3009536266326904, accuracy:0.0, valid accuracy:0.7382\n",
      "step: 300, loss: 1.9007123708724976, accuracy:0.0, valid accuracy:0.7478\n",
      "step: 400, loss: 1.9395300149917603, accuracy:0.0, valid accuracy:0.7559\n",
      "step: 500, loss: 1.5003092288970947, accuracy:0.0, valid accuracy:0.7575\n",
      "step: 600, loss: 1.489224910736084, accuracy:0.0, valid accuracy:0.7633\n",
      "step: 700, loss: 1.1347218751907349, accuracy:0.0, valid accuracy:0.7643\n",
      "step: 800, loss: 1.6497299671173096, accuracy:0.0, valid accuracy:0.7581\n",
      "Training done!\n",
      "test accuracy:  0.831\n"
     ]
    }
   ],
   "source": [
    "# train a logistic classifier for train_dataset and train_labels\n",
    "# define graph\n",
    "batch_size = 128\n",
    "graph = tf.Graph()\n",
    "with graph.as_default():\n",
    "    # define dataset\n",
    "    tf_train_dataset = tf.placeholder(tf.float32,shape=(batch_size, image_size*image_size))\n",
    "    tf_train_labels = tf.placeholder(tf.float32,shape=(batch_size, num_labels))\n",
    "    tf_valid_dataset = tf.constant(valid_dataset)\n",
    "    tf_valid_labels = tf.constant(valid_labels)\n",
    "    tf_test_dataset = tf.constant(test_dataset)\n",
    "    tf_test_labels = tf.constant(test_labels)\n",
    "    \n",
    "    # define variables (weights, biases) with initial values\n",
    "    weights = tf.Variable(tf.truncated_normal([image_size*image_size,num_labels]))\n",
    "    biases = tf.Variable(tf.zeros([num_labels]))\n",
    "    \n",
    "    # define loss\n",
    "    logits = tf.matmul(tf_train_dataset,weights) + biases\n",
    "    loss = tf.reduce_mean(tf.nn.softmax_cross_entropy_with_logits(logits,tf_train_labels))\n",
    "    \n",
    "    # define optimizer\n",
    "    optimizer = tf.train.GradientDescentOptimizer(0.5).minimize(loss)\n",
    "    \n",
    "    # define predictions\n",
    "    train_prediction = tf.nn.softmax(logits)\n",
    "    valid_prediction = tf.nn.softmax(tf.matmul(tf_valid_dataset,weights)+biases)\n",
    "    test_prediction = tf.nn.softmax(tf.matmul(tf_test_dataset,weights)+biases)\n",
    "    \n",
    "    \n",
    "def accuracy(prediction,truth):\n",
    "    return np.sum(np.argmax(prediction,axis=1)==np.argmax(truth,axis=1))/prediction.shape[0]\n",
    "\n",
    "with tf.Session(graph=graph) as session:\n",
    "    # initialize\n",
    "    tf.initialize_all_variables().run()\n",
    "    # train\n",
    "    for step in range(801):\n",
    "        # stochastic\n",
    "        offset = np.random.randint(1,train_dataset.shape[0]-batch_size)\n",
    "        batch_data = train_dataset[offset:(offset+batch_size), :]\n",
    "        batch_labels = train_labels[offset:(offset+batch_size), :]\n",
    "        feed_dict = {tf_train_dataset:batch_data, tf_train_labels:batch_labels}\n",
    "        _,l,pred = session.run([optimizer,loss,train_prediction],feed_dict = feed_dict)\n",
    "        if step % 100 ==0:\n",
    "            print('step: {}, loss: {}, accuracy:{}, valid accuracy:{}'.format(step,l,accuracy(pred,batch_labels),accuracy(valid_prediction.eval(),valid_labels)))\n",
    "    print('Training done!')\n",
    "    print('test accuracy: ', accuracy(test_prediction.eval(), test_labels))"
   ]
  },
  {
   "cell_type": "code",
   "execution_count": 29,
   "metadata": {
    "collapsed": false
   },
   "outputs": [
    {
     "data": {
      "text/plain": [
       "7"
      ]
     },
     "execution_count": 29,
     "metadata": {},
     "output_type": "execute_result"
    }
   ],
   "source": [
    "np.random.randint(1,10)"
   ]
  },
  {
   "cell_type": "markdown",
   "metadata": {},
   "source": [
    "# Problem\n",
    "Turn the logistic regression example with SGD into a 1-hidden layer neural network with rectified linear units nn.relu() and 1024 hidden nodes. This model should improve your validation / test accuracy."
   ]
  },
  {
   "cell_type": "code",
   "execution_count": 24,
   "metadata": {
    "collapsed": false
   },
   "outputs": [
    {
     "name": "stdout",
     "output_type": "stream",
     "text": [
      "step: 0, train_loss: 315.92193603515625, train_accuracy: 0.0625, valid_accuracy: 0.4291\n",
      "step: 100, train_loss: 26.270484924316406, train_accuracy: 0.796875, valid_accuracy: 0.7869\n",
      "step: 200, train_loss: 16.406665802001953, train_accuracy: 0.8359375, valid_accuracy: 0.7935\n",
      "step: 300, train_loss: 16.574703216552734, train_accuracy: 0.8203125, valid_accuracy: 0.802\n",
      "step: 400, train_loss: 10.89886474609375, train_accuracy: 0.84375, valid_accuracy: 0.7717\n",
      "step: 500, train_loss: 22.680160522460938, train_accuracy: 0.7578125, valid_accuracy: 0.8023\n",
      "step: 600, train_loss: 46.15645217895508, train_accuracy: 0.6875, valid_accuracy: 0.7693\n",
      "step: 700, train_loss: 10.568199157714844, train_accuracy: 0.7734375, valid_accuracy: 0.792\n",
      "step: 800, train_loss: 2.832437753677368, train_accuracy: 0.8828125, valid_accuracy: 0.8106\n",
      "step: 900, train_loss: 10.580953598022461, train_accuracy: 0.7578125, valid_accuracy: 0.8024\n",
      "step: 1000, train_loss: 3.7352592945098877, train_accuracy: 0.8359375, valid_accuracy: 0.8124\n",
      "step: 1100, train_loss: 9.38399887084961, train_accuracy: 0.859375, valid_accuracy: 0.8138\n",
      "step: 1200, train_loss: 11.393207550048828, train_accuracy: 0.78125, valid_accuracy: 0.7939\n",
      "step: 1300, train_loss: 5.4032087326049805, train_accuracy: 0.859375, valid_accuracy: 0.8185\n",
      "step: 1400, train_loss: 7.424866676330566, train_accuracy: 0.8125, valid_accuracy: 0.8152\n",
      "step: 1500, train_loss: 12.605429649353027, train_accuracy: 0.7890625, valid_accuracy: 0.7946\n",
      "step: 1600, train_loss: 8.962846755981445, train_accuracy: 0.7890625, valid_accuracy: 0.8135\n",
      "step: 1700, train_loss: 12.612777709960938, train_accuracy: 0.796875, valid_accuracy: 0.7991\n",
      "step: 1800, train_loss: 11.708776473999023, train_accuracy: 0.796875, valid_accuracy: 0.807\n",
      "step: 1900, train_loss: 3.7677159309387207, train_accuracy: 0.8203125, valid_accuracy: 0.8178\n",
      "step: 2000, train_loss: 2.163236618041992, train_accuracy: 0.890625, valid_accuracy: 0.8248\n",
      "Training Done!\n",
      "test_accuracy: 0.8911\n"
     ]
    }
   ],
   "source": [
    "graph = tf.Graph()\n",
    "fc1_size = 1024\n",
    "with graph.as_default():\n",
    "    # data\n",
    "    tf_train_dataset = tf.placeholder(tf.float32,shape=(batch_size,image_size*image_size))\n",
    "    tf_train_labels = tf.placeholder(tf.float32, shape=(batch_size,num_labels))\n",
    "    tf_valid_dataset = tf.constant(valid_dataset)\n",
    "    tf_test_dataset = tf.constant(test_dataset)\n",
    "    \n",
    "    # variables\n",
    "    fc1_weights = tf.Variable(tf.truncated_normal([image_size*image_size, fc1_size]))\n",
    "    fc1_biases = tf.Variable(tf.zeros([fc1_size]))\n",
    "    \n",
    "    \n",
    "    output_weights = tf.Variable(tf.truncated_normal([fc1_size,num_labels]))\n",
    "    output_biases = tf.Variable(tf.zeros([num_labels]))\n",
    "    \n",
    "    # score, loss\n",
    "    fc1 = tf.matmul(tf_train_dataset,fc1_weights)+fc1_biases\n",
    "    logits = tf.matmul(tf.nn.relu(fc1),output_weights) + output_biases\n",
    "    loss = tf.reduce_mean(tf.nn.softmax_cross_entropy_with_logits(logits, tf_train_labels))\n",
    "    \n",
    "    # optimizer\n",
    "    optimizer = tf.train.GradientDescentOptimizer(0.5).minimize(loss)\n",
    "    \n",
    "    # predictions\n",
    "    train_prediction = tf.nn.softmax(logits)\n",
    "    valid_prediction = tf.nn.softmax(tf.matmul(tf.nn.relu(tf.matmul(tf_valid_dataset,fc1_weights)+fc1_biases), output_weights)+output_biases)\n",
    "    test_prediction = tf.nn.softmax(tf.matmul(tf.nn.relu(tf.matmul(tf_test_dataset,fc1_weights)+fc1_biases), output_weights)+output_biases)\n",
    "    \n",
    "# tf session\n",
    "with tf.Session(graph=graph) as session:\n",
    "    tf.initialize_all_variables().run()\n",
    "    # run steps\n",
    "    for step in range(2001):\n",
    "        offset = np.random.randint(1,train_dataset.shape[0]-batch_size)\n",
    "        batch_train = train_dataset[offset:(offset+batch_size), :]\n",
    "        batch_labels = train_labels[offset:(offset+batch_size), :]\n",
    "        feed_dict = {tf_train_dataset:batch_train, tf_train_labels:batch_labels}\n",
    "        _,l,pred = session.run([optimizer,loss,train_prediction], feed_dict=feed_dict)\n",
    "        if step%100 ==0:\n",
    "            print('step: {}, train_loss: {}, train_accuracy: {}, valid_accuracy: {}'.format(step,l,accuracy(pred,batch_labels),\n",
    "                  accuracy(valid_prediction.eval(),valid_labels)))\n",
    "    print('Training Done!')\n",
    "    print('test_accuracy:', accuracy(test_prediction.eval(),test_labels))\n",
    "    "
   ]
  },
  {
   "cell_type": "code",
   "execution_count": 28,
   "metadata": {
    "collapsed": false
   },
   "outputs": [
    {
     "name": "stdout",
     "output_type": "stream",
     "text": [
      "step: 0, train_loss: 436.2685241699219, train_accuracy: 0.109375, valid_accuracy: 0.422\n",
      "step: 100, train_loss: 31.951557159423828, train_accuracy: 0.765625, valid_accuracy: 0.7647\n",
      "step: 200, train_loss: 38.33210372924805, train_accuracy: 0.7109375, valid_accuracy: 0.7778\n",
      "step: 300, train_loss: 23.820541381835938, train_accuracy: 0.7734375, valid_accuracy: 0.7818\n",
      "step: 400, train_loss: 9.822334289550781, train_accuracy: 0.84375, valid_accuracy: 0.8034\n",
      "step: 500, train_loss: 13.722471237182617, train_accuracy: 0.8125, valid_accuracy: 0.8044\n",
      "step: 600, train_loss: 6.4842729568481445, train_accuracy: 0.859375, valid_accuracy: 0.8081\n",
      "step: 700, train_loss: 13.399843215942383, train_accuracy: 0.8125, valid_accuracy: 0.8072\n",
      "step: 800, train_loss: 20.254350662231445, train_accuracy: 0.765625, valid_accuracy: 0.7623\n",
      "Training Done!\n",
      "test_accuracy: 0.8252\n"
     ]
    }
   ],
   "source": [
    "# more organized version:\n",
    "def accuracy(prediction,truth):\n",
    "    return np.sum(np.argmax(prediction,axis=1)==np.argmax(truth,axis=1))/prediction.shape[0]\n",
    "\n",
    "graph = tf.Graph()\n",
    "h1_wsize = 1024\n",
    "batch_size = 128\n",
    "\n",
    "with graph.as_default():\n",
    "    # data\n",
    "    tf_train_dataset = tf.placeholder(tf.float32, shape=(batch_size,image_size*image_size))\n",
    "    tf_train_labels = tf.placeholder(tf.float32, shape=(batch_size,num_labels))\n",
    "    tf_valid_dataset = tf.constant(valid_dataset)\n",
    "    tf_test_dataset = tf.constant(test_dataset)\n",
    "    \n",
    "    # weights\n",
    "    weights = {\n",
    "        'h1': tf.Variable(tf.truncated_normal([image_size*image_size, h1_wsize])),\n",
    "        'out': tf.Variable(tf.truncated_normal([h1_wsize, num_labels]))\n",
    "    }\n",
    "    biases = {\n",
    "        'h1': tf.Variable(tf.zeros([h1_wsize])),\n",
    "        'out': tf.Variable(tf.zeros([num_labels]))\n",
    "    }\n",
    "    # 1 layer perceptron model\n",
    "    def mlp(x,weights,biases):\n",
    "        layer_1 = tf.matmul(x, weights['h1']) + biases['h1']\n",
    "        layer_1 = tf.nn.relu(layer_1)\n",
    "        \n",
    "        out_layer = tf.matmul(layer_1, weights['out']) + biases['out']\n",
    "        return out_layer\n",
    "    \n",
    "    logits = mlp(tf_train_dataset, weights, biases)      \n",
    "    loss = tf.reduce_mean(tf.nn.softmax_cross_entropy_with_logits(logits, tf_train_labels))\n",
    "    \n",
    "    # optimizer\n",
    "    optimizer = tf.train.GradientDescentOptimizer(0.5).minimize(loss)\n",
    "    \n",
    "    # predictions\n",
    "    train_prediction = tf.nn.softmax(logits)\n",
    "    valid_prediction = mlp(tf_valid_dataset,weights,biases)\n",
    "    test_prediction = mlp(tf_test_dataset,weights,biases)\n",
    "    \n",
    "with tf.Session(graph=graph) as session:\n",
    "    tf.initialize_all_variables().run()\n",
    "    for step in range(801):\n",
    "        offset = np.random.randint(1,train_dataset.shape[0]-batch_size)\n",
    "        batch_train = train_dataset[offset:(offset+batch_size), :]\n",
    "        batch_labels = train_labels[offset:(offset+batch_size), :]\n",
    "        feed_dict = {tf_train_dataset:batch_train, tf_train_labels:batch_labels}\n",
    "        _,l,pred = session.run([optimizer,loss,train_prediction], feed_dict=feed_dict)\n",
    "        if step%100 ==0:\n",
    "            print('step: {}, train_loss: {}, train_accuracy: {}, valid_accuracy: {}'.format(step,l,accuracy(pred,batch_labels),\n",
    "                  accuracy(valid_prediction.eval(),valid_labels)))\n",
    "    print('Training Done!')\n",
    "    print('test_accuracy:', accuracy(test_prediction.eval(),test_labels))\n",
    "    \n",
    "    \n"
   ]
  },
  {
   "cell_type": "code",
   "execution_count": null,
   "metadata": {
    "collapsed": true
   },
   "outputs": [],
   "source": []
  }
 ],
 "metadata": {
  "anaconda-cloud": {},
  "kernelspec": {
   "display_name": "Python [python3]",
   "language": "python",
   "name": "Python [python3]"
  },
  "language_info": {
   "codemirror_mode": {
    "name": "ipython",
    "version": 3
   },
   "file_extension": ".py",
   "mimetype": "text/x-python",
   "name": "python",
   "nbconvert_exporter": "python",
   "pygments_lexer": "ipython3",
   "version": "3.5.2"
  }
 },
 "nbformat": 4,
 "nbformat_minor": 0
}
