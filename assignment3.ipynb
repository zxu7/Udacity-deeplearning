{
 "cells": [
  {
   "cell_type": "markdown",
   "metadata": {},
   "source": [
    "# Deep Learning\n",
    "# Assignment 3\n",
    "\n",
    "Previously in 2_fullyconnected.ipynb, you trained a logistic regression and a neural network model.\n",
    "The goal of this assignment is to explore regularization techniques."
   ]
  },
  {
   "cell_type": "code",
   "execution_count": 1,
   "metadata": {
    "collapsed": true
   },
   "outputs": [],
   "source": [
    "# These are all the modules we'll be using later. Make sure you can import them\n",
    "# before proceeding further.\n",
    "from __future__ import print_function\n",
    "import numpy as np\n",
    "import tensorflow as tf\n",
    "from six.moves import cPickle as pickle"
   ]
  },
  {
   "cell_type": "markdown",
   "metadata": {},
   "source": [
    "First reload the data we generated in 1_notmnist.ipynb."
   ]
  },
  {
   "cell_type": "code",
   "execution_count": 19,
   "metadata": {
    "collapsed": false
   },
   "outputs": [
    {
     "name": "stdout",
     "output_type": "stream",
     "text": [
      "Training set (200000, 28, 28) (200000,)\n",
      "Validation set (10000, 28, 28) (10000,)\n",
      "Test set (10000, 28, 28) (10000,)\n"
     ]
    }
   ],
   "source": [
    "pickle_file = 'notMNIST.pickle'\n",
    "\n",
    "with open(pickle_file, 'rb') as f:\n",
    "  save = pickle.load(f)\n",
    "  train_dataset = save['train_dataset']\n",
    "  train_labels = save['train_labels']\n",
    "  valid_dataset = save['valid_dataset']\n",
    "  valid_labels = save['valid_labels']\n",
    "  test_dataset = save['test_dataset']\n",
    "  test_labels = save['test_labels']\n",
    "  del save  # hint to help gc free up memory\n",
    "  print('Training set', train_dataset.shape, train_labels.shape)\n",
    "  print('Validation set', valid_dataset.shape, valid_labels.shape)\n",
    "  print('Test set', test_dataset.shape, test_labels.shape)"
   ]
  },
  {
   "cell_type": "markdown",
   "metadata": {},
   "source": [
    "Reformat into a shape that's more adapted to the models we're going to train:\n",
    "\n",
    "* data as a flat matrix,\n",
    "* labels as float 1-hot encodings."
   ]
  },
  {
   "cell_type": "code",
   "execution_count": 20,
   "metadata": {
    "collapsed": false
   },
   "outputs": [
    {
     "name": "stdout",
     "output_type": "stream",
     "text": [
      "Training set (200000, 784) (200000, 10)\n",
      "Validation set (10000, 784) (10000, 10)\n",
      "Test set (10000, 784) (10000, 10)\n"
     ]
    }
   ],
   "source": [
    "image_size = 28\n",
    "num_labels = 10\n",
    "\n",
    "def reformat(dataset, labels):\n",
    "  dataset = dataset.reshape((-1, image_size * image_size)).astype(np.float32)\n",
    "  # Map 1 to [0.0, 1.0, 0.0 ...], 2 to [0.0, 0.0, 1.0 ...]\n",
    "  labels = (np.arange(num_labels) == labels[:,None]).astype(np.float32)\n",
    "  return dataset, labels\n",
    "train_dataset, train_labels = reformat(train_dataset, train_labels)\n",
    "valid_dataset, valid_labels = reformat(valid_dataset, valid_labels)\n",
    "test_dataset, test_labels = reformat(test_dataset, test_labels)\n",
    "print('Training set', train_dataset.shape, train_labels.shape)\n",
    "print('Validation set', valid_dataset.shape, valid_labels.shape)\n",
    "print('Test set', test_dataset.shape, test_labels.shape)"
   ]
  },
  {
   "cell_type": "code",
   "execution_count": 4,
   "metadata": {
    "collapsed": true
   },
   "outputs": [],
   "source": [
    "def accuracy(predictions, labels):\n",
    "  return (100.0 * np.sum(np.argmax(predictions, 1) == np.argmax(labels, 1))\n",
    "          / predictions.shape[0])"
   ]
  },
  {
   "cell_type": "markdown",
   "metadata": {},
   "source": [
    "# Problem 1\n",
    "Introduce and tune L2 regularization for both logistic and neural network models. Remember that L2 amounts to adding a penalty on the norm of the weights to the loss. In TensorFlow, you can compute the L2 loss for a tensor t using nn.l2_loss(t). The right amount of regularization should improve your validation / test accuracy."
   ]
  },
  {
   "cell_type": "code",
   "execution_count": 17,
   "metadata": {
    "collapsed": false
   },
   "outputs": [
    {
     "name": "stdout",
     "output_type": "stream",
     "text": [
      "step: 0, loss: 3445.98974609375, train_accuracy: 10.15625, valid_accuracy: 31.89\n",
      "step: 100, loss: 1154.400390625, train_accuracy: 82.03125, valid_accuracy: 78.6\n",
      "step: 200, loss: 420.4654846191406, train_accuracy: 75.0, valid_accuracy: 80.51\n",
      "step: 300, loss: 153.6602783203125, train_accuracy: 85.15625, valid_accuracy: 82.42\n",
      "step: 400, loss: 56.89268112182617, train_accuracy: 80.46875, valid_accuracy: 83.93\n",
      "step: 500, loss: 21.329565048217773, train_accuracy: 85.15625, valid_accuracy: 83.89\n",
      "step: 600, loss: 8.345946311950684, train_accuracy: 82.03125, valid_accuracy: 83.51\n",
      "step: 700, loss: 3.649322032928467, train_accuracy: 85.15625, valid_accuracy: 83.59\n",
      "step: 800, loss: 1.8136191368103027, train_accuracy: 82.03125, valid_accuracy: 83.09\n",
      "Training Done!\n",
      "90.04\n"
     ]
    }
   ],
   "source": [
    "# l2 loss in the n.n model\n",
    "graph = tf.Graph()\n",
    "h1_size = 1024\n",
    "batch_size = 128\n",
    "beta = 0.01\n",
    "with graph.as_default():\n",
    "    # data\n",
    "    tf_train_dataset = tf.placeholder(tf.float32, shape=(batch_size, image_size*image_size))\n",
    "    tf_train_labels = tf.placeholder(tf.float32, shape=(batch_size, num_labels))\n",
    "    tf_valid_dataset = tf.constant(valid_dataset)\n",
    "    tf_test_dataset = tf.constant(test_dataset)\n",
    "    # weights\n",
    "    weights = {\n",
    "        'h1': tf.Variable(tf.truncated_normal([image_size*image_size, h1_size])),\n",
    "        'out': tf.Variable(tf.truncated_normal([h1_size, num_labels]))\n",
    "    }\n",
    "    \n",
    "    biases = {\n",
    "        'h1': tf.Variable(tf.zeros([h1_size])),\n",
    "        'out': tf.Variable(tf.zeros([num_labels]))\n",
    "    }\n",
    "    \n",
    "    # model\n",
    "    def mlp(x,weights,biases):\n",
    "        layer_1 = tf.matmul(x,weights['h1']) + biases['h1']\n",
    "        layer_1 = tf.nn.relu(layer_1)\n",
    "        \n",
    "        layer_out = tf.matmul(layer_1, weights['out']) + biases['out']\n",
    "        return layer_out\n",
    "    \n",
    "    # loss\n",
    "    logits = mlp(tf_train_dataset, weights, biases)\n",
    "    loss = tf.reduce_mean(tf.nn.softmax_cross_entropy_with_logits(logits,tf_train_labels))+ beta*tf.nn.l2_loss(\n",
    "        weights['h1'])+ beta*tf.nn.l2_loss(weights['out'])\n",
    "    \n",
    "    # optimizer\n",
    "    optimizer = tf.train.GradientDescentOptimizer(0.5).minimize(loss)\n",
    "    \n",
    "    # predictions\n",
    "    train_prediction = tf.nn.softmax(logits)\n",
    "    valid_prediction = mlp(tf_valid_dataset, weights, biases)\n",
    "    test_prediction = mlp(tf_test_dataset, weights, biases)\n",
    "    \n",
    "with tf.Session(graph=graph) as session:\n",
    "    tf.initialize_all_variables().run()\n",
    "    for step in range(801):\n",
    "        offset = np.random.randint(0, train_dataset.shape[0]-batch_size)\n",
    "        batch_data = train_dataset[offset:(offset+batch_size), :]\n",
    "        batch_label = train_labels[offset:(offset+batch_size), :]\n",
    "        feed_dict = {tf_train_dataset: batch_data, tf_train_labels: batch_label}\n",
    "        _,l,pred = session.run([optimizer,loss,train_prediction],feed_dict= feed_dict)\n",
    "        if step%100 ==0:\n",
    "            pred_v = valid_prediction.eval()\n",
    "            print('step: {}, loss: {}, train_accuracy: {}, valid_accuracy: {}'.format(step, l, accuracy(pred,batch_label), \n",
    "                                                                                     accuracy(pred_v,valid_labels)))\n",
    "    pred_t = test_prediction.eval()\n",
    "    print('Training Done!')\n",
    "    print(accuracy(pred_t,test_labels))\n",
    "    "
   ]
  },
  {
   "cell_type": "markdown",
   "metadata": {},
   "source": [
    "# Problem 2\n",
    "Let's demonstrate an extreme case of overfitting. Restrict your training data to just a few batches. What happens?"
   ]
  },
  {
   "cell_type": "code",
   "execution_count": 18,
   "metadata": {
    "collapsed": false
   },
   "outputs": [
    {
     "name": "stdout",
     "output_type": "stream",
     "text": [
      "step: 0, loss: 3524.120361328125, train_accuracy: 15.625, valid_accuracy: 30.94\n",
      "step: 100, loss: 1150.1893310546875, train_accuracy: 100.0, valid_accuracy: 78.01\n",
      "step: 200, loss: 422.1091003417969, train_accuracy: 100.0, valid_accuracy: 78.09\n",
      "step: 300, loss: 154.90679931640625, train_accuracy: 100.0, valid_accuracy: 78.26\n",
      "step: 400, loss: 56.91923904418945, train_accuracy: 100.0, valid_accuracy: 79.37\n",
      "step: 500, loss: 21.178165435791016, train_accuracy: 98.4375, valid_accuracy: 80.49\n",
      "step: 600, loss: 8.05430793762207, train_accuracy: 100.0, valid_accuracy: 80.05\n",
      "step: 700, loss: 3.2830681800842285, train_accuracy: 99.21875, valid_accuracy: 80.87\n",
      "step: 800, loss: 1.478226900100708, train_accuracy: 100.0, valid_accuracy: 80.53\n",
      "Training Done!\n",
      "87.85\n"
     ]
    }
   ],
   "source": [
    "train_dataset = train_dataset[:1280]\n",
    "train_labels = train_labels[:1280]\n",
    "# l2 loss in the n.n model\n",
    "graph = tf.Graph()\n",
    "h1_size = 1024\n",
    "batch_size = 128\n",
    "beta = 0.01\n",
    "with graph.as_default():\n",
    "    # data\n",
    "    tf_train_dataset = tf.placeholder(tf.float32, shape=(batch_size, image_size*image_size))\n",
    "    tf_train_labels = tf.placeholder(tf.float32, shape=(batch_size, num_labels))\n",
    "    tf_valid_dataset = tf.constant(valid_dataset)\n",
    "    tf_test_dataset = tf.constant(test_dataset)\n",
    "    # weights\n",
    "    weights = {\n",
    "        'h1': tf.Variable(tf.truncated_normal([image_size*image_size, h1_size])),\n",
    "        'out': tf.Variable(tf.truncated_normal([h1_size, num_labels]))\n",
    "    }\n",
    "    \n",
    "    biases = {\n",
    "        'h1': tf.Variable(tf.zeros([h1_size])),\n",
    "        'out': tf.Variable(tf.zeros([num_labels]))\n",
    "    }\n",
    "    \n",
    "    # model\n",
    "    def mlp(x,weights,biases):\n",
    "        layer_1 = tf.matmul(x,weights['h1']) + biases['h1']\n",
    "        layer_1 = tf.nn.relu(layer_1)\n",
    "        \n",
    "        layer_out = tf.matmul(layer_1, weights['out']) + biases['out']\n",
    "        return layer_out\n",
    "    \n",
    "    # loss\n",
    "    logits = mlp(tf_train_dataset, weights, biases)\n",
    "    loss = tf.reduce_mean(tf.nn.softmax_cross_entropy_with_logits(logits,tf_train_labels))+ beta*tf.nn.l2_loss(\n",
    "        weights['h1'])+ beta*tf.nn.l2_loss(weights['out'])\n",
    "    \n",
    "    # optimizer\n",
    "    optimizer = tf.train.GradientDescentOptimizer(0.5).minimize(loss)\n",
    "    \n",
    "    # predictions\n",
    "    train_prediction = tf.nn.softmax(logits)\n",
    "    valid_prediction = mlp(tf_valid_dataset, weights, biases)\n",
    "    test_prediction = mlp(tf_test_dataset, weights, biases)\n",
    "    \n",
    "with tf.Session(graph=graph) as session:\n",
    "    tf.initialize_all_variables().run()\n",
    "    for step in range(801):\n",
    "        offset = np.random.randint(0, train_dataset.shape[0]-batch_size)\n",
    "        batch_data = train_dataset[offset:(offset+batch_size), :]\n",
    "        batch_label = train_labels[offset:(offset+batch_size), :]\n",
    "        feed_dict = {tf_train_dataset: batch_data, tf_train_labels: batch_label}\n",
    "        _,l,pred = session.run([optimizer,loss,train_prediction],feed_dict= feed_dict)\n",
    "        if step%100 ==0:\n",
    "            pred_v = valid_prediction.eval()\n",
    "            print('step: {}, loss: {}, train_accuracy: {}, valid_accuracy: {}'.format(step, l, accuracy(pred,batch_label), \n",
    "                                                                                     accuracy(pred_v,valid_labels)))\n",
    "    pred_t = test_prediction.eval()\n",
    "    print('Training Done!')\n",
    "    print(accuracy(pred_t,test_labels))\n",
    "    "
   ]
  },
  {
   "cell_type": "markdown",
   "metadata": {},
   "source": [
    "# Problem 3\n",
    "Introduce Dropout on the hidden layer of the neural network. Remember: Dropout should only be introduced during training, not evaluation, otherwise your evaluation results would be stochastic as well. TensorFlow provides nn.dropout() for that, but you have to make sure it's only inserted during training.\n",
    "What happens to our extreme overfitting case?"
   ]
  },
  {
   "cell_type": "code",
   "execution_count": 22,
   "metadata": {
    "collapsed": false
   },
   "outputs": [
    {
     "name": "stdout",
     "output_type": "stream",
     "text": [
      "(200000, 784) (200000, 10)\n"
     ]
    }
   ],
   "source": [
    "# make sure training set is reloaded, expect the train size to be around 200000\n",
    "print(train_dataset.shape, train_labels.shape)"
   ]
  },
  {
   "cell_type": "code",
   "execution_count": 71,
   "metadata": {
    "collapsed": false
   },
   "outputs": [
    {
     "name": "stdout",
     "output_type": "stream",
     "text": [
      "step: 0, loss: 3617.685546875, train_accuracy: 11.71875, valid_accuracy: 26.52\n",
      "step: 100, loss: 1191.0137939453125, train_accuracy: 68.75, valid_accuracy: 75.08\n",
      "step: 200, loss: 426.26715087890625, train_accuracy: 78.90625, valid_accuracy: 80.7\n",
      "step: 300, loss: 155.64230346679688, train_accuracy: 75.78125, valid_accuracy: 82.27\n",
      "step: 400, loss: 57.28995132446289, train_accuracy: 79.6875, valid_accuracy: 83.3\n",
      "step: 500, loss: 21.474323272705078, train_accuracy: 82.03125, valid_accuracy: 83.63\n",
      "step: 600, loss: 8.43882942199707, train_accuracy: 81.25, valid_accuracy: 82.67\n",
      "step: 700, loss: 3.566711664199829, train_accuracy: 82.8125, valid_accuracy: 82.29\n",
      "step: 800, loss: 1.9077297449111938, train_accuracy: 78.125, valid_accuracy: 83.0\n",
      "Training Done!\n",
      "89.67\n"
     ]
    }
   ],
   "source": [
    "# l2 loss in the n.n model\n",
    "graph = tf.Graph()\n",
    "h1_size = 1024\n",
    "batch_size = 128\n",
    "beta = 0.01\n",
    "with graph.as_default():\n",
    "    # data\n",
    "    tf_train_dataset = tf.placeholder(tf.float32, shape=(batch_size, image_size*image_size))\n",
    "    tf_train_labels = tf.placeholder(tf.float32, shape=(batch_size, num_labels))\n",
    "    tf_valid_dataset = tf.constant(valid_dataset)\n",
    "    tf_test_dataset = tf.constant(test_dataset)\n",
    "    # weights\n",
    "    weights = {\n",
    "        'h1': tf.Variable(tf.truncated_normal([image_size*image_size, h1_size])),\n",
    "        'out': tf.Variable(tf.truncated_normal([h1_size, num_labels]))\n",
    "    }\n",
    "    \n",
    "    biases = {\n",
    "        'h1': tf.Variable(tf.zeros([h1_size])),\n",
    "        'out': tf.Variable(tf.zeros([num_labels]))\n",
    "    }\n",
    "    keep_prob = tf.placeholder(tf.float32)\n",
    "    # model\n",
    "    def mlp(x,weights,biases,keep_prob):\n",
    "        layer_1 = tf.matmul(x,weights['h1']) + biases['h1']\n",
    "        layer_1 = tf.nn.relu(layer_1)\n",
    "        layer_1_drop = tf.nn.dropout(layer_1,keep_prob)\n",
    "        \n",
    "        layer_out = tf.matmul(layer_1_drop, weights['out']) + biases['out']\n",
    "        return layer_out\n",
    "    \n",
    "    # loss\n",
    "    logits = mlp(tf_train_dataset, weights, biases, keep_prob)\n",
    "    loss = tf.reduce_mean(tf.nn.softmax_cross_entropy_with_logits(logits,tf_train_labels))+ beta*tf.nn.l2_loss(\n",
    "        weights['h1'])+ beta*tf.nn.l2_loss(weights['out'])\n",
    "    \n",
    "    # optimizer\n",
    "    optimizer = tf.train.GradientDescentOptimizer(0.5).minimize(loss)\n",
    "    \n",
    "    # predictions\n",
    "    train_prediction = tf.nn.softmax(logits)\n",
    "    valid_prediction = mlp(tf_valid_dataset, weights, biases, tf.constant(1.))\n",
    "    test_prediction = mlp(tf_test_dataset, weights, biases,tf.constant(1.))\n",
    "    \n",
    "with tf.Session(graph=graph) as session:\n",
    "    tf.initialize_all_variables().run()\n",
    "    for step in range(801):\n",
    "        offset = np.random.randint(0, train_dataset.shape[0]-batch_size)\n",
    "        batch_data = train_dataset[offset:(offset+batch_size), :]\n",
    "        batch_label = train_labels[offset:(offset+batch_size), :]\n",
    "        feed_dict = {tf_train_dataset: batch_data, tf_train_labels: batch_label, keep_prob: 0.5}\n",
    "        _,l,pred = session.run([optimizer,loss,train_prediction],feed_dict= feed_dict)\n",
    "        if step%100 ==0:\n",
    "            pred_v = valid_prediction.eval()\n",
    "            print('step: {}, loss: {}, train_accuracy: {}, valid_accuracy: {}'.format(step, l, accuracy(pred,batch_label), \n",
    "                                                                                     accuracy(pred_v,valid_labels)))\n",
    "    pred_t = test_prediction.eval()\n",
    "    print('Training Done!')\n",
    "    print(accuracy(pred_t,test_labels))\n",
    "    "
   ]
  },
  {
   "cell_type": "markdown",
   "metadata": {},
   "source": [
    "# Problem 4\n",
    "Try to get the best performance you can using a multi-layer model! The best reported test accuracy using a deep network is 97.1%.\n",
    "\n",
    "One avenue you can explore is to add multiple layers.\n",
    "\n",
    "Another one is to use learning rate decay:\n",
    "\n",
    ">global_step = tf.Variable(0)  # count the number of steps taken.\n",
    "\n",
    "> learning_rate = tf.train.exponential_decay(0.5, global_step, ...)\n",
    "\n",
    "> optimizer = tf.train.GradientDescentOptimizer(learning_rate).minimize(loss, global_step=global_step)"
   ]
  },
  {
   "cell_type": "code",
   "execution_count": 74,
   "metadata": {
    "collapsed": false
   },
   "outputs": [
    {
     "name": "stdout",
     "output_type": "stream",
     "text": [
      "step: 0, loss: 185589.875, train_accuracy: 6.25, valid_accuracy: 7.48\n",
      "step: 100, loss: 139109.34375, train_accuracy: 28.90625, valid_accuracy: 27.36\n",
      "step: 200, loss: 111384.9296875, train_accuracy: 38.28125, valid_accuracy: 45.29\n",
      "step: 300, loss: 79146.1875, train_accuracy: 64.0625, valid_accuracy: 57.31\n",
      "step: 400, loss: 78234.71875, train_accuracy: 70.3125, valid_accuracy: 64.26\n",
      "step: 500, loss: 71399.15625, train_accuracy: 64.84375, valid_accuracy: 67.35\n",
      "step: 600, loss: 58080.66796875, train_accuracy: 73.4375, valid_accuracy: 69.9\n",
      "step: 700, loss: 52651.2890625, train_accuracy: 73.4375, valid_accuracy: 71.32\n"
     ]
    },
    {
     "ename": "KeyboardInterrupt",
     "evalue": "",
     "output_type": "error",
     "traceback": [
      "\u001b[0;31m---------------------------------------------------------------------------\u001b[0m",
      "\u001b[0;31mKeyboardInterrupt\u001b[0m                         Traceback (most recent call last)",
      "\u001b[0;32m<ipython-input-74-cbb3522ef952>\u001b[0m in \u001b[0;36m<module>\u001b[0;34m()\u001b[0m\n\u001b[1;32m     66\u001b[0m         \u001b[0mbatch_label\u001b[0m \u001b[0;34m=\u001b[0m \u001b[0mtrain_labels\u001b[0m\u001b[0;34m[\u001b[0m\u001b[0moffset\u001b[0m\u001b[0;34m:\u001b[0m\u001b[0;34m(\u001b[0m\u001b[0moffset\u001b[0m\u001b[0;34m+\u001b[0m\u001b[0mbatch_size\u001b[0m\u001b[0;34m)\u001b[0m\u001b[0;34m,\u001b[0m \u001b[0;34m:\u001b[0m\u001b[0;34m]\u001b[0m\u001b[0;34m\u001b[0m\u001b[0m\n\u001b[1;32m     67\u001b[0m         \u001b[0mfeed_dict\u001b[0m \u001b[0;34m=\u001b[0m \u001b[0;34m{\u001b[0m\u001b[0mtf_train_dataset\u001b[0m\u001b[0;34m:\u001b[0m \u001b[0mbatch_data\u001b[0m\u001b[0;34m,\u001b[0m \u001b[0mtf_train_labels\u001b[0m\u001b[0;34m:\u001b[0m \u001b[0mbatch_label\u001b[0m\u001b[0;34m,\u001b[0m \u001b[0mkeep_prob\u001b[0m\u001b[0;34m:\u001b[0m \u001b[0;36m1\u001b[0m\u001b[0;34m}\u001b[0m\u001b[0;34m\u001b[0m\u001b[0m\n\u001b[0;32m---> 68\u001b[0;31m         \u001b[0m_\u001b[0m\u001b[0;34m,\u001b[0m\u001b[0ml\u001b[0m\u001b[0;34m,\u001b[0m\u001b[0mpred\u001b[0m \u001b[0;34m=\u001b[0m \u001b[0msession\u001b[0m\u001b[0;34m.\u001b[0m\u001b[0mrun\u001b[0m\u001b[0;34m(\u001b[0m\u001b[0;34m[\u001b[0m\u001b[0moptimizer\u001b[0m\u001b[0;34m,\u001b[0m\u001b[0mloss\u001b[0m\u001b[0;34m,\u001b[0m\u001b[0mtrain_prediction\u001b[0m\u001b[0;34m]\u001b[0m\u001b[0;34m,\u001b[0m\u001b[0mfeed_dict\u001b[0m\u001b[0;34m=\u001b[0m \u001b[0mfeed_dict\u001b[0m\u001b[0;34m)\u001b[0m\u001b[0;34m\u001b[0m\u001b[0m\n\u001b[0m\u001b[1;32m     69\u001b[0m         \u001b[0;32mif\u001b[0m \u001b[0mstep\u001b[0m\u001b[0;34m%\u001b[0m\u001b[0;36m100\u001b[0m \u001b[0;34m==\u001b[0m\u001b[0;36m0\u001b[0m\u001b[0;34m:\u001b[0m\u001b[0;34m\u001b[0m\u001b[0m\n\u001b[1;32m     70\u001b[0m             \u001b[0mpred_v\u001b[0m \u001b[0;34m=\u001b[0m \u001b[0mvalid_prediction\u001b[0m\u001b[0;34m.\u001b[0m\u001b[0meval\u001b[0m\u001b[0;34m(\u001b[0m\u001b[0;34m)\u001b[0m\u001b[0;34m\u001b[0m\u001b[0m\n",
      "\u001b[0;32m/Users/harryxu/anaconda/envs/python3/lib/python3.5/site-packages/tensorflow/python/client/session.py\u001b[0m in \u001b[0;36mrun\u001b[0;34m(self, fetches, feed_dict, options, run_metadata)\u001b[0m\n\u001b[1;32m    370\u001b[0m     \u001b[0;32mtry\u001b[0m\u001b[0;34m:\u001b[0m\u001b[0;34m\u001b[0m\u001b[0m\n\u001b[1;32m    371\u001b[0m       result = self._run(None, fetches, feed_dict, options_ptr,\n\u001b[0;32m--> 372\u001b[0;31m                          run_metadata_ptr)\n\u001b[0m\u001b[1;32m    373\u001b[0m       \u001b[0;32mif\u001b[0m \u001b[0mrun_metadata\u001b[0m\u001b[0;34m:\u001b[0m\u001b[0;34m\u001b[0m\u001b[0m\n\u001b[1;32m    374\u001b[0m         \u001b[0mproto_data\u001b[0m \u001b[0;34m=\u001b[0m \u001b[0mtf_session\u001b[0m\u001b[0;34m.\u001b[0m\u001b[0mTF_GetBuffer\u001b[0m\u001b[0;34m(\u001b[0m\u001b[0mrun_metadata_ptr\u001b[0m\u001b[0;34m)\u001b[0m\u001b[0;34m\u001b[0m\u001b[0m\n",
      "\u001b[0;32m/Users/harryxu/anaconda/envs/python3/lib/python3.5/site-packages/tensorflow/python/client/session.py\u001b[0m in \u001b[0;36m_run\u001b[0;34m(self, handle, fetches, feed_dict, options, run_metadata)\u001b[0m\n\u001b[1;32m    634\u001b[0m     \u001b[0;32mtry\u001b[0m\u001b[0;34m:\u001b[0m\u001b[0;34m\u001b[0m\u001b[0m\n\u001b[1;32m    635\u001b[0m       results = self._do_run(handle, target_list, unique_fetches,\n\u001b[0;32m--> 636\u001b[0;31m                              feed_dict_string, options, run_metadata)\n\u001b[0m\u001b[1;32m    637\u001b[0m     \u001b[0;32mfinally\u001b[0m\u001b[0;34m:\u001b[0m\u001b[0;34m\u001b[0m\u001b[0m\n\u001b[1;32m    638\u001b[0m       \u001b[0;31m# The movers are no longer used. Delete them.\u001b[0m\u001b[0;34m\u001b[0m\u001b[0;34m\u001b[0m\u001b[0m\n",
      "\u001b[0;32m/Users/harryxu/anaconda/envs/python3/lib/python3.5/site-packages/tensorflow/python/client/session.py\u001b[0m in \u001b[0;36m_do_run\u001b[0;34m(self, handle, target_list, fetch_list, feed_dict, options, run_metadata)\u001b[0m\n\u001b[1;32m    706\u001b[0m     \u001b[0;32mif\u001b[0m \u001b[0mhandle\u001b[0m \u001b[0;32mis\u001b[0m \u001b[0;32mNone\u001b[0m\u001b[0;34m:\u001b[0m\u001b[0;34m\u001b[0m\u001b[0m\n\u001b[1;32m    707\u001b[0m       return self._do_call(_run_fn, self._session, feed_dict, fetch_list,\n\u001b[0;32m--> 708\u001b[0;31m                            target_list, options, run_metadata)\n\u001b[0m\u001b[1;32m    709\u001b[0m     \u001b[0;32melse\u001b[0m\u001b[0;34m:\u001b[0m\u001b[0;34m\u001b[0m\u001b[0m\n\u001b[1;32m    710\u001b[0m       return self._do_call(_prun_fn, self._session, handle, feed_dict,\n",
      "\u001b[0;32m/Users/harryxu/anaconda/envs/python3/lib/python3.5/site-packages/tensorflow/python/client/session.py\u001b[0m in \u001b[0;36m_do_call\u001b[0;34m(self, fn, *args)\u001b[0m\n\u001b[1;32m    713\u001b[0m   \u001b[0;32mdef\u001b[0m \u001b[0m_do_call\u001b[0m\u001b[0;34m(\u001b[0m\u001b[0mself\u001b[0m\u001b[0;34m,\u001b[0m \u001b[0mfn\u001b[0m\u001b[0;34m,\u001b[0m \u001b[0;34m*\u001b[0m\u001b[0margs\u001b[0m\u001b[0;34m)\u001b[0m\u001b[0;34m:\u001b[0m\u001b[0;34m\u001b[0m\u001b[0m\n\u001b[1;32m    714\u001b[0m     \u001b[0;32mtry\u001b[0m\u001b[0;34m:\u001b[0m\u001b[0;34m\u001b[0m\u001b[0m\n\u001b[0;32m--> 715\u001b[0;31m       \u001b[0;32mreturn\u001b[0m \u001b[0mfn\u001b[0m\u001b[0;34m(\u001b[0m\u001b[0;34m*\u001b[0m\u001b[0margs\u001b[0m\u001b[0;34m)\u001b[0m\u001b[0;34m\u001b[0m\u001b[0m\n\u001b[0m\u001b[1;32m    716\u001b[0m     \u001b[0;32mexcept\u001b[0m \u001b[0merrors\u001b[0m\u001b[0;34m.\u001b[0m\u001b[0mOpError\u001b[0m \u001b[0;32mas\u001b[0m \u001b[0me\u001b[0m\u001b[0;34m:\u001b[0m\u001b[0;34m\u001b[0m\u001b[0m\n\u001b[1;32m    717\u001b[0m       \u001b[0mmessage\u001b[0m \u001b[0;34m=\u001b[0m \u001b[0mcompat\u001b[0m\u001b[0;34m.\u001b[0m\u001b[0mas_text\u001b[0m\u001b[0;34m(\u001b[0m\u001b[0me\u001b[0m\u001b[0;34m.\u001b[0m\u001b[0mmessage\u001b[0m\u001b[0;34m)\u001b[0m\u001b[0;34m\u001b[0m\u001b[0m\n",
      "\u001b[0;32m/Users/harryxu/anaconda/envs/python3/lib/python3.5/site-packages/tensorflow/python/client/session.py\u001b[0m in \u001b[0;36m_run_fn\u001b[0;34m(session, feed_dict, fetch_list, target_list, options, run_metadata)\u001b[0m\n\u001b[1;32m    695\u001b[0m         return tf_session.TF_Run(session, options,\n\u001b[1;32m    696\u001b[0m                                  \u001b[0mfeed_dict\u001b[0m\u001b[0;34m,\u001b[0m \u001b[0mfetch_list\u001b[0m\u001b[0;34m,\u001b[0m \u001b[0mtarget_list\u001b[0m\u001b[0;34m,\u001b[0m\u001b[0;34m\u001b[0m\u001b[0m\n\u001b[0;32m--> 697\u001b[0;31m                                  status, run_metadata)\n\u001b[0m\u001b[1;32m    698\u001b[0m \u001b[0;34m\u001b[0m\u001b[0m\n\u001b[1;32m    699\u001b[0m     \u001b[0;32mdef\u001b[0m \u001b[0m_prun_fn\u001b[0m\u001b[0;34m(\u001b[0m\u001b[0msession\u001b[0m\u001b[0;34m,\u001b[0m \u001b[0mhandle\u001b[0m\u001b[0;34m,\u001b[0m \u001b[0mfeed_dict\u001b[0m\u001b[0;34m,\u001b[0m \u001b[0mfetch_list\u001b[0m\u001b[0;34m)\u001b[0m\u001b[0;34m:\u001b[0m\u001b[0;34m\u001b[0m\u001b[0m\n",
      "\u001b[0;31mKeyboardInterrupt\u001b[0m: "
     ]
    }
   ],
   "source": [
    "# l2 loss in the n.n model\n",
    "graph = tf.Graph()\n",
    "h1_size = 512\n",
    "h2_size = 1024\n",
    "h3_size = 1024\n",
    "batch_size = 128\n",
    "beta = 0.\n",
    "with graph.as_default():\n",
    "    # data\n",
    "    tf_train_dataset = tf.placeholder(tf.float32, shape=(batch_size, image_size*image_size))\n",
    "    tf_train_labels = tf.placeholder(tf.float32, shape=(batch_size, num_labels))\n",
    "    tf_valid_dataset = tf.constant(valid_dataset)\n",
    "    tf_test_dataset = tf.constant(test_dataset)\n",
    "    # weights\n",
    "    weights = {\n",
    "        'h1': tf.Variable(tf.truncated_normal([image_size*image_size, h1_size])),\n",
    "        'h2': tf.Variable(tf.truncated_normal([h1_size, h2_size])),\n",
    "        'h3': tf.Variable(tf.truncated_normal([h2_size, h3_size])),\n",
    "        'out': tf.Variable(tf.truncated_normal([h3_size, num_labels]))\n",
    "    }\n",
    "    \n",
    "    biases = {\n",
    "        'h1': tf.Variable(tf.zeros([h1_size])),\n",
    "        'h2': tf.Variable(tf.zeros([h2_size])),\n",
    "        'h3': tf.Variable(tf.zeros([h3_size])),\n",
    "        'out': tf.Variable(tf.zeros([num_labels]))\n",
    "    }\n",
    "    keep_prob = tf.placeholder(tf.float32)\n",
    "\n",
    "    # model\n",
    "    def mlp(x,weights,biases,keep_prob):\n",
    "        layer_1 = tf.matmul(x,weights['h1']) + biases['h1']\n",
    "        layer_1 = tf.nn.relu(layer_1)\n",
    "        layer_1_drop = tf.nn.dropout(layer_1,keep_prob)\n",
    "        \n",
    "        layer_2 = tf.matmul(layer_1,weights['h2']) + biases['h2']\n",
    "        layer_2 = tf.nn.relu(layer_2)\n",
    "        layer_2_drop = tf.nn.dropout(layer_2,keep_prob)\n",
    "        \n",
    "        layer_3 = tf.matmul(layer_2_drop,weights['h3']) + biases['h3']\n",
    "        layer_3 = tf.nn.relu(layer_3)\n",
    "        layer_3_drop = tf.nn.dropout(layer_3,keep_prob)\n",
    "        \n",
    "        layer_out = tf.matmul(layer_3_drop, weights['out']) + biases['out']\n",
    "        return layer_out\n",
    "    \n",
    "    # loss\n",
    "    logits = mlp(tf_train_dataset, weights, biases, 0.5)\n",
    "    loss = tf.reduce_mean(tf.nn.softmax_cross_entropy_with_logits(logits,tf_train_labels))+ beta*tf.nn.l2_loss(\n",
    "        weights['h1'])+ beta*tf.nn.l2_loss(weights['out']) + beta*tf.nn.l2_loss(weights['h2'])\n",
    "    \n",
    "    # optimizer\n",
    "    optimizer = tf.train.AdamOptimizer(0.0001).minimize(loss)\n",
    "    \n",
    "    # predictions\n",
    "    # train_prediction = tf.nn.softmax(logits)\n",
    "    train_prediction = mlp(tf_train_dataset, weights, biases, tf.constant(1.))\n",
    "    valid_prediction = mlp(tf_valid_dataset, weights, biases, tf.constant(1.))\n",
    "    test_prediction = mlp(tf_test_dataset, weights, biases,tf.constant(1.))\n",
    "    \n",
    "with tf.Session(graph=graph) as session:\n",
    "    tf.initialize_all_variables().run()\n",
    "    for step in range(3501):\n",
    "        offset = np.random.randint(0, train_dataset.shape[0]-batch_size)\n",
    "        batch_data = train_dataset[offset:(offset+batch_size), :]\n",
    "        batch_label = train_labels[offset:(offset+batch_size), :]\n",
    "        feed_dict = {tf_train_dataset: batch_data, tf_train_labels: batch_label, keep_prob: 1}\n",
    "        _,l,pred = session.run([optimizer,loss,train_prediction],feed_dict= feed_dict)\n",
    "        if step%100 ==0:\n",
    "            pred_v = valid_prediction.eval()\n",
    "            print('step: {}, loss: {}, train_accuracy: {}, valid_accuracy: {}'.format(step, l, accuracy(pred,batch_label), \n",
    "                                                                                     accuracy(pred_v,valid_labels)))\n",
    "    pred_t = test_prediction.eval()\n",
    "    print('Training Done!')\n",
    "    print(accuracy(pred_t,test_labels))\n",
    "    "
   ]
  },
  {
   "cell_type": "code",
   "execution_count": null,
   "metadata": {
    "collapsed": true
   },
   "outputs": [],
   "source": []
  }
 ],
 "metadata": {
  "kernelspec": {
   "display_name": "Python [python3]",
   "language": "python",
   "name": "Python [python3]"
  },
  "language_info": {
   "codemirror_mode": {
    "name": "ipython",
    "version": 3
   },
   "file_extension": ".py",
   "mimetype": "text/x-python",
   "name": "python",
   "nbconvert_exporter": "python",
   "pygments_lexer": "ipython3",
   "version": "3.5.2"
  }
 },
 "nbformat": 4,
 "nbformat_minor": 0
}
